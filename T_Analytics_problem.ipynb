{
 "cells": [
  {
   "cell_type": "code",
   "execution_count": 117,
   "metadata": {},
   "outputs": [],
   "source": [
    "import pandas as pd\n",
    "Df=pd.read_excel('C:\\\\Users\\\\VBUDHEW\\\\Downloads\\\\Tiger Analytics - Case II\\\\Tiger Analytics - Case II\\\\Product Launch Dataset.xlsm',index='Product id')"
   ]
  },
  {
   "cell_type": "code",
   "execution_count": 118,
   "metadata": {},
   "outputs": [],
   "source": [
    "Df.set_index('Product id',inplace=True)"
   ]
  },
  {
   "cell_type": "code",
   "execution_count": 119,
   "metadata": {},
   "outputs": [
    {
     "data": {
      "text/html": [
       "<div>\n",
       "<style scoped>\n",
       "    .dataframe tbody tr th:only-of-type {\n",
       "        vertical-align: middle;\n",
       "    }\n",
       "\n",
       "    .dataframe tbody tr th {\n",
       "        vertical-align: top;\n",
       "    }\n",
       "\n",
       "    .dataframe thead th {\n",
       "        text-align: right;\n",
       "    }\n",
       "</style>\n",
       "<table border=\"1\" class=\"dataframe\">\n",
       "  <thead>\n",
       "    <tr style=\"text-align: right;\">\n",
       "      <th></th>\n",
       "      <th>Flavor</th>\n",
       "      <th>Market Subcategory</th>\n",
       "      <th>Launch Date</th>\n",
       "      <th>Country</th>\n",
       "      <th>Region</th>\n",
       "      <th>Positioning</th>\n",
       "    </tr>\n",
       "    <tr>\n",
       "      <th>Product id</th>\n",
       "      <th></th>\n",
       "      <th></th>\n",
       "      <th></th>\n",
       "      <th></th>\n",
       "      <th></th>\n",
       "      <th></th>\n",
       "    </tr>\n",
       "  </thead>\n",
       "  <tbody>\n",
       "    <tr>\n",
       "      <th>1</th>\n",
       "      <td>Herbs, not specified; Fruit, not specified</td>\n",
       "      <td>Other Soft Drinks</td>\n",
       "      <td>2001-01-01</td>\n",
       "      <td>WE1</td>\n",
       "      <td>West Europe</td>\n",
       "      <td>Low Calorie, Natural</td>\n",
       "    </tr>\n",
       "    <tr>\n",
       "      <th>2</th>\n",
       "      <td>Fruit, not specified</td>\n",
       "      <td>Carbonates</td>\n",
       "      <td>2001-01-01</td>\n",
       "      <td>WE2</td>\n",
       "      <td>West Europe</td>\n",
       "      <td>Convenience - Consumption</td>\n",
       "    </tr>\n",
       "    <tr>\n",
       "      <th>3</th>\n",
       "      <td>Lemon; Honey; Ginger</td>\n",
       "      <td>Juice &amp; Juice Drinks</td>\n",
       "      <td>2001-01-01</td>\n",
       "      <td>WE2</td>\n",
       "      <td>West Europe</td>\n",
       "      <td>100% Not from Concentrate, Convenience - Consu...</td>\n",
       "    </tr>\n",
       "    <tr>\n",
       "      <th>4</th>\n",
       "      <td>Mango; Passion Fruit</td>\n",
       "      <td>Juice &amp; Juice Drinks</td>\n",
       "      <td>2001-01-01</td>\n",
       "      <td>WE2</td>\n",
       "      <td>West Europe</td>\n",
       "      <td>100% Not from Concentrate, Convenience - Consu...</td>\n",
       "    </tr>\n",
       "    <tr>\n",
       "      <th>5</th>\n",
       "      <td>Mango</td>\n",
       "      <td>Juice &amp; Juice Drinks</td>\n",
       "      <td>2001-01-01</td>\n",
       "      <td>WE2</td>\n",
       "      <td>West Europe</td>\n",
       "      <td>100% Not from Concentrate, Convenience - Consu...</td>\n",
       "    </tr>\n",
       "    <tr>\n",
       "      <th>...</th>\n",
       "      <td>...</td>\n",
       "      <td>...</td>\n",
       "      <td>...</td>\n",
       "      <td>...</td>\n",
       "      <td>...</td>\n",
       "      <td>...</td>\n",
       "    </tr>\n",
       "    <tr>\n",
       "      <th>114685</th>\n",
       "      <td>Berry, Wildberry</td>\n",
       "      <td>Other Soft Drinks</td>\n",
       "      <td>2010-01-01</td>\n",
       "      <td>NA1</td>\n",
       "      <td>North America</td>\n",
       "      <td>Low Calorie, Energy/Alertness, Ethical - Packa...</td>\n",
       "    </tr>\n",
       "    <tr>\n",
       "      <th>114686</th>\n",
       "      <td>Raspberry, Not Specified</td>\n",
       "      <td>Other Soft Drinks</td>\n",
       "      <td>2010-01-01</td>\n",
       "      <td>NA1</td>\n",
       "      <td>North America</td>\n",
       "      <td>Low Calorie, Energy/Alertness, Ethical - Packa...</td>\n",
       "    </tr>\n",
       "    <tr>\n",
       "      <th>114687</th>\n",
       "      <td>Tea, White</td>\n",
       "      <td>Iced Tea</td>\n",
       "      <td>2010-01-01</td>\n",
       "      <td>NA1</td>\n",
       "      <td>North America</td>\n",
       "      <td>Antioxidant, Natural, Ethical - Packaging, Con...</td>\n",
       "    </tr>\n",
       "    <tr>\n",
       "      <th>114688</th>\n",
       "      <td>Tea, Green; Citrus, Not Specified</td>\n",
       "      <td>Iced Tea</td>\n",
       "      <td>2010-01-01</td>\n",
       "      <td>NA1</td>\n",
       "      <td>North America</td>\n",
       "      <td>Antioxidant, Natural, Ethical - Packaging, Con...</td>\n",
       "    </tr>\n",
       "    <tr>\n",
       "      <th>114689</th>\n",
       "      <td>Cherry, Not Specified</td>\n",
       "      <td>Energy Drinks</td>\n",
       "      <td>2010-01-01</td>\n",
       "      <td>NA1</td>\n",
       "      <td>North America</td>\n",
       "      <td>Kosher, Juice Drinks (up to 25% juice), Allerg...</td>\n",
       "    </tr>\n",
       "  </tbody>\n",
       "</table>\n",
       "<p>114689 rows × 6 columns</p>\n",
       "</div>"
      ],
      "text/plain": [
       "                                                Flavor    Market Subcategory  \\\n",
       "Product id                                                                     \n",
       "1           Herbs, not specified; Fruit, not specified     Other Soft Drinks   \n",
       "2                                 Fruit, not specified            Carbonates   \n",
       "3                                 Lemon; Honey; Ginger  Juice & Juice Drinks   \n",
       "4                                 Mango; Passion Fruit  Juice & Juice Drinks   \n",
       "5                                                Mango  Juice & Juice Drinks   \n",
       "...                                                ...                   ...   \n",
       "114685                                Berry, Wildberry     Other Soft Drinks   \n",
       "114686                        Raspberry, Not Specified     Other Soft Drinks   \n",
       "114687                                      Tea, White              Iced Tea   \n",
       "114688               Tea, Green; Citrus, Not Specified              Iced Tea   \n",
       "114689                           Cherry, Not Specified         Energy Drinks   \n",
       "\n",
       "           Launch Date Country         Region  \\\n",
       "Product id                                      \n",
       "1           2001-01-01     WE1    West Europe   \n",
       "2           2001-01-01     WE2    West Europe   \n",
       "3           2001-01-01     WE2    West Europe   \n",
       "4           2001-01-01     WE2    West Europe   \n",
       "5           2001-01-01     WE2    West Europe   \n",
       "...                ...     ...            ...   \n",
       "114685      2010-01-01     NA1  North America   \n",
       "114686      2010-01-01     NA1  North America   \n",
       "114687      2010-01-01     NA1  North America   \n",
       "114688      2010-01-01     NA1  North America   \n",
       "114689      2010-01-01     NA1  North America   \n",
       "\n",
       "                                                  Positioning  \n",
       "Product id                                                     \n",
       "1                                        Low Calorie, Natural  \n",
       "2                                   Convenience - Consumption  \n",
       "3           100% Not from Concentrate, Convenience - Consu...  \n",
       "4           100% Not from Concentrate, Convenience - Consu...  \n",
       "5           100% Not from Concentrate, Convenience - Consu...  \n",
       "...                                                       ...  \n",
       "114685      Low Calorie, Energy/Alertness, Ethical - Packa...  \n",
       "114686      Low Calorie, Energy/Alertness, Ethical - Packa...  \n",
       "114687      Antioxidant, Natural, Ethical - Packaging, Con...  \n",
       "114688      Antioxidant, Natural, Ethical - Packaging, Con...  \n",
       "114689      Kosher, Juice Drinks (up to 25% juice), Allerg...  \n",
       "\n",
       "[114689 rows x 6 columns]"
      ]
     },
     "execution_count": 119,
     "metadata": {},
     "output_type": "execute_result"
    }
   ],
   "source": [
    "Df"
   ]
  },
  {
   "cell_type": "markdown",
   "metadata": {},
   "source": [
    "# Country Distribution of every Feature Analysis"
   ]
  },
  {
   "cell_type": "code",
   "execution_count": 120,
   "metadata": {},
   "outputs": [
    {
     "data": {
      "text/html": [
       "<div>\n",
       "<style scoped>\n",
       "    .dataframe tbody tr th:only-of-type {\n",
       "        vertical-align: middle;\n",
       "    }\n",
       "\n",
       "    .dataframe tbody tr th {\n",
       "        vertical-align: top;\n",
       "    }\n",
       "\n",
       "    .dataframe thead th {\n",
       "        text-align: right;\n",
       "    }\n",
       "</style>\n",
       "<table border=\"1\" class=\"dataframe\">\n",
       "  <thead>\n",
       "    <tr style=\"text-align: right;\">\n",
       "      <th></th>\n",
       "      <th>Flavor</th>\n",
       "      <th>Market Subcategory</th>\n",
       "      <th>Launch Date</th>\n",
       "      <th>Country</th>\n",
       "      <th>Positioning</th>\n",
       "    </tr>\n",
       "    <tr>\n",
       "      <th>Region</th>\n",
       "      <th></th>\n",
       "      <th></th>\n",
       "      <th></th>\n",
       "      <th></th>\n",
       "      <th></th>\n",
       "    </tr>\n",
       "  </thead>\n",
       "  <tbody>\n",
       "    <tr>\n",
       "      <th>Africa</th>\n",
       "      <td>4753</td>\n",
       "      <td>4790</td>\n",
       "      <td>4790</td>\n",
       "      <td>4790</td>\n",
       "      <td>4672</td>\n",
       "    </tr>\n",
       "    <tr>\n",
       "      <th>Asia</th>\n",
       "      <td>27141</td>\n",
       "      <td>27775</td>\n",
       "      <td>27775</td>\n",
       "      <td>27775</td>\n",
       "      <td>26875</td>\n",
       "    </tr>\n",
       "    <tr>\n",
       "      <th>Australasia</th>\n",
       "      <td>2323</td>\n",
       "      <td>2370</td>\n",
       "      <td>2370</td>\n",
       "      <td>2370</td>\n",
       "      <td>2313</td>\n",
       "    </tr>\n",
       "    <tr>\n",
       "      <th>East Europe</th>\n",
       "      <td>11265</td>\n",
       "      <td>11467</td>\n",
       "      <td>11467</td>\n",
       "      <td>11467</td>\n",
       "      <td>10761</td>\n",
       "    </tr>\n",
       "    <tr>\n",
       "      <th>Latin America</th>\n",
       "      <td>9237</td>\n",
       "      <td>9348</td>\n",
       "      <td>9348</td>\n",
       "      <td>9348</td>\n",
       "      <td>8937</td>\n",
       "    </tr>\n",
       "    <tr>\n",
       "      <th>Middle East</th>\n",
       "      <td>5566</td>\n",
       "      <td>5636</td>\n",
       "      <td>5636</td>\n",
       "      <td>5636</td>\n",
       "      <td>5464</td>\n",
       "    </tr>\n",
       "    <tr>\n",
       "      <th>North America</th>\n",
       "      <td>19662</td>\n",
       "      <td>20085</td>\n",
       "      <td>20085</td>\n",
       "      <td>20085</td>\n",
       "      <td>19534</td>\n",
       "    </tr>\n",
       "    <tr>\n",
       "      <th>West Europe</th>\n",
       "      <td>32766</td>\n",
       "      <td>33218</td>\n",
       "      <td>33218</td>\n",
       "      <td>33218</td>\n",
       "      <td>31821</td>\n",
       "    </tr>\n",
       "  </tbody>\n",
       "</table>\n",
       "</div>"
      ],
      "text/plain": [
       "               Flavor  Market Subcategory  Launch Date  Country  Positioning\n",
       "Region                                                                      \n",
       "Africa           4753                4790         4790     4790         4672\n",
       "Asia            27141               27775        27775    27775        26875\n",
       "Australasia      2323                2370         2370     2370         2313\n",
       "East Europe     11265               11467        11467    11467        10761\n",
       "Latin America    9237                9348         9348     9348         8937\n",
       "Middle East      5566                5636         5636     5636         5464\n",
       "North America   19662               20085        20085    20085        19534\n",
       "West Europe     32766               33218        33218    33218        31821"
      ]
     },
     "execution_count": 120,
     "metadata": {},
     "output_type": "execute_result"
    }
   ],
   "source": [
    "Df.groupby('Region').count()"
   ]
  },
  {
   "cell_type": "markdown",
   "metadata": {},
   "source": [
    "# Focusing on North America"
   ]
  },
  {
   "cell_type": "code",
   "execution_count": 121,
   "metadata": {},
   "outputs": [
    {
     "data": {
      "text/html": [
       "<div>\n",
       "<style scoped>\n",
       "    .dataframe tbody tr th:only-of-type {\n",
       "        vertical-align: middle;\n",
       "    }\n",
       "\n",
       "    .dataframe tbody tr th {\n",
       "        vertical-align: top;\n",
       "    }\n",
       "\n",
       "    .dataframe thead th {\n",
       "        text-align: right;\n",
       "    }\n",
       "</style>\n",
       "<table border=\"1\" class=\"dataframe\">\n",
       "  <thead>\n",
       "    <tr style=\"text-align: right;\">\n",
       "      <th></th>\n",
       "      <th>Flavor</th>\n",
       "      <th>Market Subcategory</th>\n",
       "      <th>Launch Date</th>\n",
       "      <th>Region</th>\n",
       "      <th>Positioning</th>\n",
       "    </tr>\n",
       "    <tr>\n",
       "      <th>Country</th>\n",
       "      <th></th>\n",
       "      <th></th>\n",
       "      <th></th>\n",
       "      <th></th>\n",
       "      <th></th>\n",
       "    </tr>\n",
       "  </thead>\n",
       "  <tbody>\n",
       "    <tr>\n",
       "      <th>NA1</th>\n",
       "      <td>17846</td>\n",
       "      <td>18240</td>\n",
       "      <td>18240</td>\n",
       "      <td>18240</td>\n",
       "      <td>17744</td>\n",
       "    </tr>\n",
       "    <tr>\n",
       "      <th>NA2</th>\n",
       "      <td>1815</td>\n",
       "      <td>1844</td>\n",
       "      <td>1844</td>\n",
       "      <td>1844</td>\n",
       "      <td>1789</td>\n",
       "    </tr>\n",
       "    <tr>\n",
       "      <th>NA3</th>\n",
       "      <td>1</td>\n",
       "      <td>1</td>\n",
       "      <td>1</td>\n",
       "      <td>1</td>\n",
       "      <td>1</td>\n",
       "    </tr>\n",
       "  </tbody>\n",
       "</table>\n",
       "</div>"
      ],
      "text/plain": [
       "         Flavor  Market Subcategory  Launch Date  Region  Positioning\n",
       "Country                                                              \n",
       "NA1       17846               18240        18240   18240        17744\n",
       "NA2        1815                1844         1844    1844         1789\n",
       "NA3           1                   1            1       1            1"
      ]
     },
     "execution_count": 121,
     "metadata": {},
     "output_type": "execute_result"
    }
   ],
   "source": [
    "Df_l1=Df.loc[Df['Region']=='North America']\n",
    "Df_l1.groupby(['Country']).count()"
   ]
  },
  {
   "cell_type": "code",
   "execution_count": 6,
   "metadata": {},
   "outputs": [
    {
     "name": "stdout",
     "output_type": "stream",
     "text": [
      "Using matplotlib backend: Qt5Agg\n"
     ]
    },
    {
     "data": {
      "text/plain": [
       "<matplotlib.legend.Legend at 0x1f633b714f0>"
      ]
     },
     "execution_count": 6,
     "metadata": {},
     "output_type": "execute_result"
    }
   ],
   "source": [
    "import pandas as pd\n",
    "import matplotlib.pyplot as plt\n",
    "import seaborn as sns\n",
    "%matplotlib \n",
    "sns.set()\n",
    "labels = [r'NA1 90.76%', r'9.18%', r'NA3 0.06%']\n",
    "Df_l1.groupby(['Country']).count().Flavor.plot.pie(wedgeprops={'edgecolor': 'black'},shadow=True)\n",
    "plt.legend(labels)"
   ]
  },
  {
   "cell_type": "markdown",
   "metadata": {},
   "source": [
    "# Joining Flavor group to add visiblity"
   ]
  },
  {
   "cell_type": "code",
   "execution_count": 123,
   "metadata": {},
   "outputs": [],
   "source": [
    "flavor_cat=pd.read_excel('C:\\\\Users\\\\VBUDHEW\\\\Downloads\\\\Tiger Analytics - Case II\\\\Tiger Analytics - Case II\\\\Flavour classification dataset.xlsm')\n",
    "Df_l2=pd.merge(Df_l1,flavor_cat,how='left',on='Flavor')"
   ]
  },
  {
   "cell_type": "code",
   "execution_count": 137,
   "metadata": {},
   "outputs": [],
   "source": [
    "group_distrubution_over_countries=pd.DataFrame(Df_l2.groupby(['Flavor_Group','Country']).count())"
   ]
  },
  {
   "cell_type": "code",
   "execution_count": 139,
   "metadata": {},
   "outputs": [],
   "source": [
    "NA3_data=Df_l2.loc[Df_l2['Country']=='NA3']"
   ]
  },
  {
   "cell_type": "code",
   "execution_count": 140,
   "metadata": {},
   "outputs": [
    {
     "data": {
      "text/html": [
       "<div>\n",
       "<style scoped>\n",
       "    .dataframe tbody tr th:only-of-type {\n",
       "        vertical-align: middle;\n",
       "    }\n",
       "\n",
       "    .dataframe tbody tr th {\n",
       "        vertical-align: top;\n",
       "    }\n",
       "\n",
       "    .dataframe thead th {\n",
       "        text-align: right;\n",
       "    }\n",
       "</style>\n",
       "<table border=\"1\" class=\"dataframe\">\n",
       "  <thead>\n",
       "    <tr style=\"text-align: right;\">\n",
       "      <th></th>\n",
       "      <th>Flavor</th>\n",
       "      <th>Market Subcategory</th>\n",
       "      <th>Launch Date</th>\n",
       "      <th>Country</th>\n",
       "      <th>Region</th>\n",
       "      <th>Positioning</th>\n",
       "      <th>Flavor_Group</th>\n",
       "    </tr>\n",
       "  </thead>\n",
       "  <tbody>\n",
       "    <tr>\n",
       "      <th>3139</th>\n",
       "      <td>Ginger Beer; Rum, Not specified</td>\n",
       "      <td>Carbonates</td>\n",
       "      <td>2008-01-01</td>\n",
       "      <td>NA3</td>\n",
       "      <td>North America</td>\n",
       "      <td>Traditional, Natural, Convenience - Consumption</td>\n",
       "      <td>NaN</td>\n",
       "    </tr>\n",
       "  </tbody>\n",
       "</table>\n",
       "</div>"
      ],
      "text/plain": [
       "                               Flavor Market Subcategory Launch Date Country  \\\n",
       "3139  Ginger Beer; Rum, Not specified         Carbonates  2008-01-01     NA3   \n",
       "\n",
       "             Region                                      Positioning  \\\n",
       "3139  North America  Traditional, Natural, Convenience - Consumption   \n",
       "\n",
       "     Flavor_Group  \n",
       "3139          NaN  "
      ]
     },
     "execution_count": 140,
     "metadata": {},
     "output_type": "execute_result"
    }
   ],
   "source": [
    "NA3_data"
   ]
  },
  {
   "cell_type": "code",
   "execution_count": 142,
   "metadata": {},
   "outputs": [],
   "source": [
    "NA1_data=Df_l2.loc[Df_l2['Country']=='NA1']\n",
    "NA2_data=Df_l2.loc[Df_l2['Country']=='NA2']"
   ]
  },
  {
   "cell_type": "code",
   "execution_count": 415,
   "metadata": {},
   "outputs": [
    {
     "data": {
      "text/plain": [
       "Text(0.5, 1.0, 'NA1 Market Subcategory distribution over Flavors')"
      ]
     },
     "execution_count": 415,
     "metadata": {},
     "output_type": "execute_result"
    }
   ],
   "source": [
    "values=NA1_data.groupby('Market Subcategory')['Flavor'].count()\n",
    "clrs=['blue' if (x < max(values)) else 'orange' for x in values]\n",
    "NA1_data.groupby('Market Subcategory')['Flavor'].count().plot.bar(fontsize=7,color=clrs)\n",
    "plt.legend(['Flavor','Highest Flavor Number'])\n",
    "plt.ylabel('Number of Types')\n",
    "plt.xticks(rotation=330)\n",
    "plt.title('NA1 Market Subcategory distribution over Flavors')"
   ]
  },
  {
   "cell_type": "code",
   "execution_count": 258,
   "metadata": {},
   "outputs": [
    {
     "data": {
      "text/plain": [
       "Text(0.5, 1.0, 'Distribution of product launch forJuice & Juice  Drinks with dates')"
      ]
     },
     "execution_count": 258,
     "metadata": {},
     "output_type": "execute_result"
    }
   ],
   "source": [
    "JJD_NA1=NA1_data.loc[(NA1_data['Market Subcategory']=='Juice & Juice Drinks')]   ###This type has the most contribution in number of types of flavor\n",
    "JJD_NA1.groupby('Launch Date')['Launch Date'].count().plot.bar(fontsize=7,zorder=1)\n",
    "plt.xticks(rotation=340)\n",
    "plt.ylabel('Number of Juice & Juice Drinks Drinks category product launch',fontsize=7)\n",
    "plt.title('Distribution of product launch forJuice & Juice  Drinks with dates',fontsize=7)"
   ]
  },
  {
   "cell_type": "code",
   "execution_count": 257,
   "metadata": {},
   "outputs": [
    {
     "data": {
      "text/plain": [
       "Text(0.5, 1.0, 'Distribution of product launch for Drink Concentrates & Mixes dates')"
      ]
     },
     "execution_count": 257,
     "metadata": {},
     "output_type": "execute_result"
    }
   ],
   "source": [
    "DCM_NA1=NA1_data.loc[(NA1_data['Market Subcategory']=='Drink Concentrates & Mixes')]   ###2nd highest category with large flavors===> but not much information\n",
    "DCM_NA1.groupby('Launch Date')['Launch Date'].count().plot.bar(fontsize=7,zorder=1)\n",
    "plt.xticks(rotation=340)\n",
    "plt.ylabel('Number of Juice & Juice Drinks Drinks category product launch',fontsize=7)\n",
    "plt.title('Distribution of product launch for Drink Concentrates & Mixes dates',fontsize=7)"
   ]
  },
  {
   "cell_type": "code",
   "execution_count": 428,
   "metadata": {},
   "outputs": [
    {
     "data": {
      "text/plain": [
       "Text(0.5, 1.0, 'Distribution of Flovors in the NA1 for JJD')"
      ]
     },
     "execution_count": 428,
     "metadata": {},
     "output_type": "execute_result"
    }
   ],
   "source": [
    "x=JJD_NA2.groupby('Flavor_Group').count()['Flavor']\n",
    "plt.pie(x.values,wedgeprops={'edgecolor': 'black'},shadow=True)\n",
    "plt.title('Distribution of Flovors in the NA1 for JJD')"
   ]
  },
  {
   "cell_type": "code",
   "execution_count": 427,
   "metadata": {},
   "outputs": [
    {
     "data": {
      "text/plain": [
       "Flavor_Group\n",
       "Brown Flavors       1\n",
       "Flowers             2\n",
       "Fruit             107\n",
       "Herbs               1\n",
       "Spices & Seeds      6\n",
       "Tea               147\n",
       "Unflavored          7\n",
       "Name: Flavor, dtype: int64"
      ]
     },
     "execution_count": 427,
     "metadata": {},
     "output_type": "execute_result"
    }
   ],
   "source": [
    "x"
   ]
  },
  {
   "cell_type": "code",
   "execution_count": 317,
   "metadata": {},
   "outputs": [],
   "source": [
    "JJD_pos_NA1 = JJD_NA1[JJD_NA1['Positioning'].notna()]\n",
    "positioning=pd.read_excel('C:\\\\Users\\\\VBUDHEW\\\\Downloads\\\\Tiger Analytics - Case II\\\\Tiger Analytics - Case II\\\\Position category mapping dataset.xlsm')\n",
    "JJD_pos_NA1.reset_index(inplace=True,drop=True)\n",
    "for pos in range(len(positioning)):\n",
    "    for rw in range(len(JJD_pos_NA1)):\n",
    "        if positioning['Positioning Subcategory'].values[pos] in JJD_pos_NA1['Positioning'].values[rw]:\n",
    "            JJD_pos_NA1.Positioning[JJD_pos_NA1.index==rw] = positioning['Positioning Group'].values[pos]"
   ]
  },
  {
   "cell_type": "code",
   "execution_count": 336,
   "metadata": {},
   "outputs": [
    {
     "data": {
      "text/plain": [
       "Text(0, 0.5, 'Numbers of flavors/product in JJD')"
      ]
     },
     "execution_count": 336,
     "metadata": {},
     "output_type": "execute_result"
    }
   ],
   "source": [
    "JJD_pos_NA1.groupby('Positioning')['Positioning'].count().plot.bar()\n",
    "plt.xticks(rotation=340,fontsize=3)\n",
    "plt.title('Number of Juice & Juice Drinks With respect to Position Group',fontsize=8)\n",
    "plt.ylabel('Numbers of flavors/product in JJD',fontsize=8)"
   ]
  },
  {
   "cell_type": "code",
   "execution_count": 351,
   "metadata": {},
   "outputs": [
    {
     "data": {
      "text/plain": [
       "[<matplotlib.lines.Line2D at 0x1f65789d730>]"
      ]
     },
     "execution_count": 351,
     "metadata": {},
     "output_type": "execute_result"
    }
   ],
   "source": [
    "health_launch_JJD=JJD_pos_NA1.loc[JJD_pos_NA1['Positioning']=='Health (Passive)'].groupby('Launch Date').count()\n",
    "plt.plot(health_launch_JJD.index,health_launch_JJD.Flavor)"
   ]
  },
  {
   "cell_type": "code",
   "execution_count": 356,
   "metadata": {},
   "outputs": [
    {
     "data": {
      "text/plain": [
       "Text(0.5, 1.0, 'Distribution of Flavors on years in JJD in health Positioning')"
      ]
     },
     "execution_count": 356,
     "metadata": {},
     "output_type": "execute_result"
    }
   ],
   "source": [
    "plt.pie(health_launch_JJD['Flavor'],wedgeprops={'edgecolor': 'black'},shadow=True) #16.4,13.8\n",
    "plt.title('Distribution of Flavors on years in JJD in health Positioning')"
   ]
  },
  {
   "cell_type": "code",
   "execution_count": 357,
   "metadata": {},
   "outputs": [
    {
     "data": {
      "text/html": [
       "<div>\n",
       "<style scoped>\n",
       "    .dataframe tbody tr th:only-of-type {\n",
       "        vertical-align: middle;\n",
       "    }\n",
       "\n",
       "    .dataframe tbody tr th {\n",
       "        vertical-align: top;\n",
       "    }\n",
       "\n",
       "    .dataframe thead th {\n",
       "        text-align: right;\n",
       "    }\n",
       "</style>\n",
       "<table border=\"1\" class=\"dataframe\">\n",
       "  <thead>\n",
       "    <tr style=\"text-align: right;\">\n",
       "      <th></th>\n",
       "      <th>Flavor</th>\n",
       "      <th>Market Subcategory</th>\n",
       "      <th>Country</th>\n",
       "      <th>Region</th>\n",
       "      <th>Positioning</th>\n",
       "      <th>Flavor_Group</th>\n",
       "    </tr>\n",
       "    <tr>\n",
       "      <th>Launch Date</th>\n",
       "      <th></th>\n",
       "      <th></th>\n",
       "      <th></th>\n",
       "      <th></th>\n",
       "      <th></th>\n",
       "      <th></th>\n",
       "    </tr>\n",
       "  </thead>\n",
       "  <tbody>\n",
       "    <tr>\n",
       "      <th>2001-01-01</th>\n",
       "      <td>134</td>\n",
       "      <td>148</td>\n",
       "      <td>148</td>\n",
       "      <td>148</td>\n",
       "      <td>148</td>\n",
       "      <td>26</td>\n",
       "    </tr>\n",
       "    <tr>\n",
       "      <th>2002-01-01</th>\n",
       "      <td>156</td>\n",
       "      <td>158</td>\n",
       "      <td>158</td>\n",
       "      <td>158</td>\n",
       "      <td>158</td>\n",
       "      <td>40</td>\n",
       "    </tr>\n",
       "    <tr>\n",
       "      <th>2003-01-01</th>\n",
       "      <td>205</td>\n",
       "      <td>223</td>\n",
       "      <td>223</td>\n",
       "      <td>223</td>\n",
       "      <td>223</td>\n",
       "      <td>46</td>\n",
       "    </tr>\n",
       "    <tr>\n",
       "      <th>2004-01-01</th>\n",
       "      <td>260</td>\n",
       "      <td>260</td>\n",
       "      <td>260</td>\n",
       "      <td>260</td>\n",
       "      <td>260</td>\n",
       "      <td>47</td>\n",
       "    </tr>\n",
       "    <tr>\n",
       "      <th>2005-01-01</th>\n",
       "      <td>267</td>\n",
       "      <td>267</td>\n",
       "      <td>267</td>\n",
       "      <td>267</td>\n",
       "      <td>267</td>\n",
       "      <td>32</td>\n",
       "    </tr>\n",
       "    <tr>\n",
       "      <th>2006-01-01</th>\n",
       "      <td>201</td>\n",
       "      <td>201</td>\n",
       "      <td>201</td>\n",
       "      <td>201</td>\n",
       "      <td>201</td>\n",
       "      <td>36</td>\n",
       "    </tr>\n",
       "    <tr>\n",
       "      <th>2007-01-01</th>\n",
       "      <td>158</td>\n",
       "      <td>158</td>\n",
       "      <td>158</td>\n",
       "      <td>158</td>\n",
       "      <td>158</td>\n",
       "      <td>26</td>\n",
       "    </tr>\n",
       "    <tr>\n",
       "      <th>2008-01-01</th>\n",
       "      <td>182</td>\n",
       "      <td>182</td>\n",
       "      <td>182</td>\n",
       "      <td>182</td>\n",
       "      <td>182</td>\n",
       "      <td>80</td>\n",
       "    </tr>\n",
       "    <tr>\n",
       "      <th>2009-01-01</th>\n",
       "      <td>367</td>\n",
       "      <td>367</td>\n",
       "      <td>367</td>\n",
       "      <td>367</td>\n",
       "      <td>367</td>\n",
       "      <td>126</td>\n",
       "    </tr>\n",
       "    <tr>\n",
       "      <th>2010-01-01</th>\n",
       "      <td>308</td>\n",
       "      <td>308</td>\n",
       "      <td>308</td>\n",
       "      <td>308</td>\n",
       "      <td>308</td>\n",
       "      <td>90</td>\n",
       "    </tr>\n",
       "  </tbody>\n",
       "</table>\n",
       "</div>"
      ],
      "text/plain": [
       "             Flavor  Market Subcategory  Country  Region  Positioning  \\\n",
       "Launch Date                                                             \n",
       "2001-01-01      134                 148      148     148          148   \n",
       "2002-01-01      156                 158      158     158          158   \n",
       "2003-01-01      205                 223      223     223          223   \n",
       "2004-01-01      260                 260      260     260          260   \n",
       "2005-01-01      267                 267      267     267          267   \n",
       "2006-01-01      201                 201      201     201          201   \n",
       "2007-01-01      158                 158      158     158          158   \n",
       "2008-01-01      182                 182      182     182          182   \n",
       "2009-01-01      367                 367      367     367          367   \n",
       "2010-01-01      308                 308      308     308          308   \n",
       "\n",
       "             Flavor_Group  \n",
       "Launch Date                \n",
       "2001-01-01             26  \n",
       "2002-01-01             40  \n",
       "2003-01-01             46  \n",
       "2004-01-01             47  \n",
       "2005-01-01             32  \n",
       "2006-01-01             36  \n",
       "2007-01-01             26  \n",
       "2008-01-01             80  \n",
       "2009-01-01            126  \n",
       "2010-01-01             90  "
      ]
     },
     "execution_count": 357,
     "metadata": {},
     "output_type": "execute_result"
    }
   ],
   "source": [
    "health_launch_JJD"
   ]
  },
  {
   "cell_type": "code",
   "execution_count": 419,
   "metadata": {},
   "outputs": [
    {
     "data": {
      "text/plain": [
       "Text(0.5, 1.0, 'NA2 Market Subcategory distribution over Flavors')"
      ]
     },
     "execution_count": 419,
     "metadata": {},
     "output_type": "execute_result"
    }
   ],
   "source": [
    "values2=NA2_data.groupby('Market Subcategory')['Flavor'].count()\n",
    "#clrs=['blue' if (x < max(values)) else 'orange' for x in values]\n",
    "#NA2_data.groupby('Market Subcategory')['Flavor'].count()\n",
    "plt.bar(values2.index,values2.values)\n",
    "plt.bar(values1.index,values1.values)\n",
    "plt.legend(['Flavor NA2'])\n",
    "plt.ylabel('Number of Types')\n",
    "plt.xticks(rotation=330)\n",
    "plt.title('NA2 Market Subcategory distribution over Flavors')"
   ]
  },
  {
   "cell_type": "code",
   "execution_count": 418,
   "metadata": {},
   "outputs": [
    {
     "data": {
      "text/plain": [
       "Text(0.5, 1.0, 'NA1 Market Subcategory distribution over Flavors')"
      ]
     },
     "execution_count": 418,
     "metadata": {},
     "output_type": "execute_result"
    }
   ],
   "source": [
    "values1=NA2_data.groupby('Market Subcategory')['Flavor'].count()\n",
    "#clrs=['blue' if (x < max(values)) else 'orange' for x in values]\n",
    "NA1_data.groupby('Market Subcategory')['Flavor'].count().plot.bar(fontsize=7)#color=clrs)\n",
    "plt.legend(['Flavor NA1'])\n",
    "plt.ylabel('Number of Types')\n",
    "plt.xticks(rotation=330)\n",
    "plt.title('NA1 Market Subcategory distribution over Flavors')"
   ]
  },
  {
   "cell_type": "code",
   "execution_count": 423,
   "metadata": {},
   "outputs": [
    {
     "data": {
      "text/plain": [
       "Text(0.5, 1.0, 'Distribution of product launch for Iced Tea with dates for NA1')"
      ]
     },
     "execution_count": 423,
     "metadata": {},
     "output_type": "execute_result"
    }
   ],
   "source": [
    "JJD_NA2=NA1_data.loc[(NA1_data['Market Subcategory']=='Iced Tea')]   ###This type has the most contribution in number of types of flavor\n",
    "JJD_NA2.groupby('Launch Date')['Launch Date'].count().plot.bar(fontsize=7)\n",
    "plt.xticks(rotation=340)\n",
    "plt.ylabel('Number of Juice & Juice Drinks Drinks category product launch',fontsize=7)\n",
    "plt.title('Distribution of product launch for Iced Tea with dates for NA1',fontsize=7)"
   ]
  },
  {
   "cell_type": "code",
   "execution_count": 394,
   "metadata": {},
   "outputs": [
    {
     "name": "stdout",
     "output_type": "stream",
     "text": [
      "Sports Others\n",
      "Sports Supplements\n"
     ]
    }
   ],
   "source": [
    "for i in values1.index:\n",
    "    if i not in values2.index:\n",
    "        print(i)"
   ]
  },
  {
   "cell_type": "code",
   "execution_count": 399,
   "metadata": {},
   "outputs": [
    {
     "data": {
      "text/plain": [
       "Text(0.5, 1.0, 'Distribution of Flovors in the NA2 for JJD')"
      ]
     },
     "execution_count": 399,
     "metadata": {},
     "output_type": "execute_result"
    }
   ],
   "source": [
    "x=JJD_NA2.groupby('Flavor_Group').count()['Flavor']\n",
    "plt.pie(x.values,wedgeprops={'edgecolor': 'black'},shadow=True)\n",
    "plt.title('Distribution of Flovors in the NA2 for JJD')"
   ]
  },
  {
   "cell_type": "code",
   "execution_count": 400,
   "metadata": {},
   "outputs": [
    {
     "name": "stderr",
     "output_type": "stream",
     "text": [
      "<ipython-input-400-a5ce1cf6ed60>:7: SettingWithCopyWarning: \n",
      "A value is trying to be set on a copy of a slice from a DataFrame\n",
      "\n",
      "See the caveats in the documentation: https://pandas.pydata.org/pandas-docs/stable/user_guide/indexing.html#returning-a-view-versus-a-copy\n",
      "  JJD_pos_NA2.Positioning[JJD_pos_NA2.index==rw] = positioning['Positioning Group'].values[pos]\n",
      "C:\\Users\\VBUDHEW\\.spyder-py3\\NewAnaconda\\lib\\site-packages\\pandas\\core\\generic.py:8765: SettingWithCopyWarning: \n",
      "A value is trying to be set on a copy of a slice from a DataFrame\n",
      "\n",
      "See the caveats in the documentation: https://pandas.pydata.org/pandas-docs/stable/user_guide/indexing.html#returning-a-view-versus-a-copy\n",
      "  self._update_inplace(new_data)\n"
     ]
    }
   ],
   "source": [
    "JJD_pos_NA2 = JJD_NA2[JJD_NA2['Positioning'].notna()]\n",
    "positioning=pd.read_excel('C:\\\\Users\\\\VBUDHEW\\\\Downloads\\\\Tiger Analytics - Case II\\\\Tiger Analytics - Case II\\\\Position category mapping dataset.xlsm')\n",
    "JJD_pos_NA2.reset_index(inplace=True,drop=True)\n",
    "for pos in range(len(positioning)):\n",
    "    for rw in range(len(JJD_pos_NA2)):\n",
    "        if positioning['Positioning Subcategory'].values[pos] in JJD_pos_NA2['Positioning'].values[rw]:\n",
    "            JJD_pos_NA2.Positioning[JJD_pos_NA2.index==rw] = positioning['Positioning Group'].values[pos]"
   ]
  },
  {
   "cell_type": "code",
   "execution_count": 409,
   "metadata": {},
   "outputs": [
    {
     "data": {
      "text/plain": [
       "Text(0, 0.5, 'Numbers of flavors/product in JJD')"
      ]
     },
     "execution_count": 409,
     "metadata": {},
     "output_type": "execute_result"
    }
   ],
   "source": [
    "JJD_pos_NA2.groupby('Positioning')['Positioning'].count().plot.bar()\n",
    "plt.xticks(rotation=340,fontsize=3)\n",
    "plt.title('Number of Juice & Juice Drinks With respect to Position Group',fontsize=8)\n",
    "plt.ylabel('Numbers of flavors/product in JJD',fontsize=8)"
   ]
  },
  {
   "cell_type": "code",
   "execution_count": 407,
   "metadata": {},
   "outputs": [
    {
     "name": "stdout",
     "output_type": "stream",
     "text": [
      "100% Reconstituted, Juice Drinks (up to 25% juice)\n",
      "Juice Drinks (up to 25% juice), Juice Drinks (up to 25% juice)\n",
      "100% Reconstituted, 100% Reconstituted\n",
      "Supplements\n",
      "Gender\n"
     ]
    }
   ],
   "source": [
    "for j in JJD_pos_NA1['Positioning'].unique():\n",
    "    if j not in JJD_pos_NA2['Positioning'].unique():\n",
    "        print(j)"
   ]
  },
  {
   "cell_type": "code",
   "execution_count": 411,
   "metadata": {},
   "outputs": [
    {
     "data": {
      "text/plain": [
       "array(['Health (Passive)', 'Juice', 'Pleasure', 'Convenience', 'Age',\n",
       "       'Seasonal/In-Out Products', 'Health (Active)',\n",
       "       'Juice Drinks (up to 25% juice)', '100% Reconstituted', 'Others',\n",
       "       '100% Reconstituted, Juice Drinks (up to 25% juice)',\n",
       "       'Co-Branding',\n",
       "       'Juice Drinks (up to 25% juice), Juice Drinks (up to 25% juice)',\n",
       "       'Choice', '100% Reconstituted, 100% Reconstituted', 'Supplements',\n",
       "       'Gender', 'Ethical'], dtype=object)"
      ]
     },
     "execution_count": 411,
     "metadata": {},
     "output_type": "execute_result"
    }
   ],
   "source": [
    "JJD_pos_NA1['Positioning'].unique()"
   ]
  },
  {
   "cell_type": "code",
   "execution_count": null,
   "metadata": {},
   "outputs": [],
   "source": []
  }
 ],
 "metadata": {
  "kernelspec": {
   "display_name": "Python 3",
   "language": "python",
   "name": "python3"
  },
  "language_info": {
   "codemirror_mode": {
    "name": "ipython",
    "version": 3
   },
   "file_extension": ".py",
   "mimetype": "text/x-python",
   "name": "python",
   "nbconvert_exporter": "python",
   "pygments_lexer": "ipython3",
   "version": "3.8.3"
  }
 },
 "nbformat": 4,
 "nbformat_minor": 4
}
